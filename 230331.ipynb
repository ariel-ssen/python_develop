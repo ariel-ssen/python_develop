{
 "cells": [
  {
   "cell_type": "code",
   "execution_count": null,
   "id": "385ae360-3325-4725-8c68-87c3befe14fe",
   "metadata": {},
   "outputs": [],
   "source": [
    "# 23.파이썬 숫자 처리 및 F-String"
   ]
  },
  {
   "cell_type": "code",
   "execution_count": null,
   "id": "1f797f13-fa5c-4423-a905-f03dd0e5a151",
   "metadata": {},
   "outputs": [],
   "source": [
    "print(round(8 /3,2))"
   ]
  },
  {
   "cell_type": "code",
   "execution_count": null,
   "id": "e123f6d4-0015-4785-bb3a-badc39870565",
   "metadata": {},
   "outputs": [],
   "source": [
    "# int , round 배움"
   ]
  },
  {
   "cell_type": "code",
   "execution_count": null,
   "id": "45a4902a-f3c7-45a3-9c96-27ee03ecf48d",
   "metadata": {},
   "outputs": [],
   "source": [
    "result = 4 /2"
   ]
  },
  {
   "cell_type": "code",
   "execution_count": null,
   "id": "d8bb37ca-43ed-4dda-bd04-f115ccbf875f",
   "metadata": {},
   "outputs": [],
   "source": [
    "result /= 2"
   ]
  },
  {
   "cell_type": "code",
   "execution_count": null,
   "id": "a2a4e7bd-434e-40b9-839b-925555cf16b9",
   "metadata": {},
   "outputs": [],
   "source": [
    "print(result)"
   ]
  },
  {
   "cell_type": "code",
   "execution_count": null,
   "id": "524bc45b-d334-4fa4-bcf5-a8fabb2ad030",
   "metadata": {},
   "outputs": [],
   "source": [
    "score = 0 "
   ]
  },
  {
   "cell_type": "code",
   "execution_count": null,
   "id": "252d7068-1299-4ed6-a6e5-3a4413ec6f5d",
   "metadata": {},
   "outputs": [],
   "source": [
    "# USER = score a point"
   ]
  },
  {
   "cell_type": "code",
   "execution_count": null,
   "id": "7489dc27-c8b7-421d-bc06-a2c05063291e",
   "metadata": {},
   "outputs": [],
   "source": [
    "score += 1"
   ]
  },
  {
   "cell_type": "code",
   "execution_count": null,
   "id": "c147804b-48b8-4bdd-beba-ccd8b2b28ec2",
   "metadata": {},
   "outputs": [],
   "source": [
    "print(score)"
   ]
  },
  {
   "cell_type": "code",
   "execution_count": null,
   "id": "1cbed3fa-ca7a-45ad-828d-d3355bf251c7",
   "metadata": {},
   "outputs": [],
   "source": [
    "height = 1.8 "
   ]
  },
  {
   "cell_type": "code",
   "execution_count": null,
   "id": "6a050280-f702-48b5-83b5-6fd211c61c2d",
   "metadata": {},
   "outputs": [],
   "source": [
    "isWinning = True"
   ]
  },
  {
   "cell_type": "code",
   "execution_count": null,
   "id": "274477a5-4e77-4d38-9bea-efd35ee456ce",
   "metadata": {},
   "outputs": [],
   "source": [
    "print(\"ddd\" + str(score))"
   ]
  },
  {
   "cell_type": "code",
   "execution_count": null,
   "id": "12bbe24f-c4a2-4008-a23a-a82226b0912a",
   "metadata": {},
   "outputs": [],
   "source": [
    "# f-string"
   ]
  },
  {
   "cell_type": "code",
   "execution_count": null,
   "id": "6d1a08bd-a247-4ff2-8000-2a9ada7e8e98",
   "metadata": {},
   "outputs": [],
   "source": [
    "print(f\"ddd{score}\")"
   ]
  },
  {
   "cell_type": "code",
   "execution_count": null,
   "id": "c6400d19-5790-47e1-b988-d4a84616d594",
   "metadata": {},
   "outputs": [],
   "source": [
    "print(f\"ddd{score}, ssss {height},aaaa{isWinning}\")"
   ]
  },
  {
   "cell_type": "code",
   "execution_count": null,
   "id": "8c1c5500-85a0-4258-96ed-22e9abead86e",
   "metadata": {},
   "outputs": [],
   "source": [
    "# 24.[대화형 코디연습] 삶을 주 (week)로 표현해보기"
   ]
  },
  {
   "cell_type": "code",
   "execution_count": null,
   "id": "0db8ce52-a370-4d33-a84b-5d22d0c9a193",
   "metadata": {},
   "outputs": [],
   "source": [
    "1나이를 인풋 받는다 \n",
    "290살까지 산다 \n",
    "1년은 265 \n",
    "52주 \n",
    "12월 \n",
    "365,52,12"
   ]
  },
  {
   "cell_type": "code",
   "execution_count": null,
   "id": "6f355c98-7122-497c-a8bb-bd6e35316747",
   "metadata": {},
   "outputs": [],
   "source": [
    "age = int(input(\"나이를 입력해주세요\"))"
   ]
  },
  {
   "cell_type": "code",
   "execution_count": null,
   "id": "73c43fda-724c-46aa-919d-307e4b0e3e4c",
   "metadata": {},
   "outputs": [],
   "source": [
    "print(type(age))"
   ]
  },
  {
   "cell_type": "code",
   "execution_count": null,
   "id": "239e9ca3-ace9-426f-9b8a-3e5873cd7459",
   "metadata": {},
   "outputs": [],
   "source": [
    "year = 90-age"
   ]
  },
  {
   "cell_type": "code",
   "execution_count": null,
   "id": "c1c2441c-fa5e-4de8-a103-5f78fdef164a",
   "metadata": {},
   "outputs": [],
   "source": [
    "month = year*12"
   ]
  },
  {
   "cell_type": "code",
   "execution_count": null,
   "id": "0a70456a-15ca-404c-b174-80f840d20a41",
   "metadata": {},
   "outputs": [],
   "source": [
    "week = year*52"
   ]
  },
  {
   "cell_type": "code",
   "execution_count": null,
   "id": "af25c4c4-5965-4a4a-933e-267e461a39a6",
   "metadata": {},
   "outputs": [],
   "source": [
    "day = year*365"
   ]
  },
  {
   "cell_type": "code",
   "execution_count": null,
   "id": "6c28d8a7-0235-4613-aab6-83e210a6cc36",
   "metadata": {},
   "outputs": [],
   "source": [
    "print(f\"{day}살아갈 날\")\n",
    "print(f\"{week}살아갈 주\")\n",
    "print(f\"{month}살아갈 달\")\n",
    "print(f\"{year}살아갈 년\")\n"
   ]
  },
  {
   "cell_type": "code",
   "execution_count": null,
   "id": "14c6fc1d-305e-43c3-ad71-9f3c9f9313b7",
   "metadata": {},
   "outputs": [],
   "source": [
    "# 25.2일차 프로젝트: 팁 계산기"
   ]
  },
  {
   "cell_type": "code",
   "execution_count": null,
   "id": "686de436-8585-4d2c-9068-c502d963efe3",
   "metadata": {},
   "outputs": [],
   "source": [
    "print(input(\"총 얼마가 나왔습니까?\"))\n",
    "print(input(\"팁 몇퍼센트 입니까? 10, 12 or 15\"))\n",
    "print(input(\"몇명입니까?\"))\n",
    "print((\"각자 계산할 가격은 이러합니다.\")"
   ]
  },
  {
   "cell_type": "code",
   "execution_count": null,
   "id": "78c1bef9-5fb1-45bf-8392-209490943174",
   "metadata": {},
   "outputs": [],
   "source": [
    "pay = float(input(\"총 얼마가 나왔습니까?\"))"
   ]
  },
  {
   "cell_type": "code",
   "execution_count": null,
   "id": "92245cba-0d6d-4011-8af5-11fe25608432",
   "metadata": {},
   "outputs": [],
   "source": [
    "tip = pay / (100/(int(input(\"팁 몇퍼센트 입니까? 10, 12 or 15\"))))"
   ]
  },
  {
   "cell_type": "code",
   "execution_count": null,
   "id": "491964ac-147b-470f-8404-a8bd1a2736d4",
   "metadata": {},
   "outputs": [],
   "source": [
    "all_pay = pay+tip"
   ]
  },
  {
   "cell_type": "code",
   "execution_count": null,
   "id": "d713d202-8a01-4e86-b5ef-3256ecf25ecf",
   "metadata": {},
   "outputs": [],
   "source": [
    "print(all_pay)"
   ]
  },
  {
   "cell_type": "code",
   "execution_count": null,
   "id": "77661cca-a852-4538-81e0-e49ad440c66c",
   "metadata": {},
   "outputs": [],
   "source": [
    "people = int(input(\"몇명입니까?\"))"
   ]
  },
  {
   "cell_type": "code",
   "execution_count": null,
   "id": "404279b2-a435-44e7-b181-b11848f70431",
   "metadata": {},
   "outputs": [],
   "source": [
    "price = round(all_pay / people,2)"
   ]
  },
  {
   "cell_type": "code",
   "execution_count": null,
   "id": "86d3b860-9f5f-4544-b8c6-6f2347c65101",
   "metadata": {},
   "outputs": [],
   "source": [
    "print(f\"각자 계산할 가격은 {price}입니다.\")"
   ]
  },
  {
   "cell_type": "code",
   "execution_count": null,
   "id": "c8398f38-8a27-4a65-8db5-db922f3b888b",
   "metadata": {},
   "outputs": [],
   "source": [
    "## day3 흐름제어와 논리연산자"
   ]
  },
  {
   "cell_type": "code",
   "execution_count": null,
   "id": "8c987d55-6f67-4e9b-9561-489e9502ee5f",
   "metadata": {},
   "outputs": [],
   "source": [
    "## BMI 계산하기"
   ]
  },
  {
   "cell_type": "code",
   "execution_count": null,
   "id": "e4d2db0c-d367-45d8-9562-64b064f0cf40",
   "metadata": {},
   "outputs": [
    {
     "name": "stdin",
     "output_type": "stream",
     "text": [
      "몸무게를 입력해주세요 81\n"
     ]
    }
   ],
   "source": [
    "weight = int(input(\"몸무게를 입력해주세요\"))"
   ]
  },
  {
   "cell_type": "code",
   "execution_count": 2,
   "id": "2d0b81d5-bbcf-4f77-ae79-17f62ce288e1",
   "metadata": {},
   "outputs": [
    {
     "name": "stdin",
     "output_type": "stream",
     "text": [
      "키를 입력해주세요 162\n"
     ]
    }
   ],
   "source": [
    "height = int(input(\"키를 입력해주세요\"))"
   ]
  },
  {
   "cell_type": "code",
   "execution_count": null,
   "id": "c4a22fc6-ea55-4c06-ad40-acdede975f73",
   "metadata": {},
   "outputs": [],
   "source": [
    "weight / height**2"
   ]
  },
  {
   "cell_type": "code",
   "execution_count": 3,
   "id": "2e7063ae-b308-4cbc-9775-06a72258e853",
   "metadata": {},
   "outputs": [],
   "source": [
    "bmi = round(weight / height ** 2)"
   ]
  },
  {
   "cell_type": "code",
   "execution_count": 8,
   "id": "4780b886-3fa5-4ece-b543-45e0771ad249",
   "metadata": {},
   "outputs": [],
   "source": [
    "bmi = 26"
   ]
  },
  {
   "cell_type": "code",
   "execution_count": 9,
   "id": "1ce758f6-ddf7-423a-aabb-db29eea38f06",
   "metadata": {},
   "outputs": [
    {
     "name": "stdout",
     "output_type": "stream",
     "text": [
      "normalweight\n"
     ]
    }
   ],
   "source": [
    "if bmi <= 18.5 :\n",
    "    print(\"underweight\")\n",
    "elif 18.5 < bmi <= 25 :\n",
    "    print(\"normalweight\")\n",
    "elif 25 < bmi <= 30 :\n",
    "    print(\"normalweight\")\n",
    "elif 30 < bmi <= 35 :\n",
    "    print(\"normalweight\")\n",
    "else :\n",
    "    print(\"elinically obese\")"
   ]
  },
  {
   "cell_type": "markdown",
   "id": "a06cc99b-3dc3-4ccd-806f-ddf52246aaf1",
   "metadata": {},
   "source": [
    "## 윤년 "
   ]
  },
  {
   "cell_type": "code",
   "execution_count": null,
   "id": "c174077b-283b-4536-b645-2c9f43871fdc",
   "metadata": {},
   "outputs": [],
   "source": [
    "4로 나누었을떄 나머지가 없다면 윤년\n",
    "100으로 나누었을때 나머지가 없다면 유년이 아님\n",
    "400으로 나누었을떄 윤년 "
   ]
  },
  {
   "cell_type": "code",
   "execution_count": 13,
   "id": "ae1b98ce-a267-4c16-8bbd-82a76c1872d0",
   "metadata": {},
   "outputs": [
    {
     "name": "stdin",
     "output_type": "stream",
     "text": [
      "윤년을 확인해 보고 싶은 년도를 적으세요 2020\n"
     ]
    }
   ],
   "source": [
    "year = int(input(\"윤년을 확인해 보고 싶은 년도를 적으세요\"))"
   ]
  },
  {
   "cell_type": "code",
   "execution_count": 15,
   "id": "fcc03dd4-910c-4198-82e4-ad09a6e00e6e",
   "metadata": {},
   "outputs": [
    {
     "name": "stdout",
     "output_type": "stream",
     "text": [
      "윤년입니다.\n"
     ]
    }
   ],
   "source": [
    "if year % 4 == 0 :\n",
    "    print(\"윤년입니다.\")\n",
    "elif year % 400 == 0 :\n",
    "    print(\"윤년입니다.\")\n",
    "elif year % 100 == 0 :\n",
    "    print(\"윤년이아닙니다.\")\n",
    "else :\n",
    "    print(\"윤년이 아닙니다.\")"
   ]
  },
  {
   "cell_type": "code",
   "execution_count": null,
   "id": "b6c40c23-1431-41b1-ba78-7ec8435bfd1b",
   "metadata": {},
   "outputs": [],
   "source": []
  }
 ],
 "metadata": {
  "kernelspec": {
   "display_name": "Python 3 (ipykernel)",
   "language": "python",
   "name": "python3"
  },
  "language_info": {
   "codemirror_mode": {
    "name": "ipython",
    "version": 3
   },
   "file_extension": ".py",
   "mimetype": "text/x-python",
   "name": "python",
   "nbconvert_exporter": "python",
   "pygments_lexer": "ipython3",
   "version": "3.9.13"
  },
  "toc-autonumbering": true,
  "toc-showcode": false,
  "toc-showmarkdowntxt": false
 },
 "nbformat": 4,
 "nbformat_minor": 5
}
